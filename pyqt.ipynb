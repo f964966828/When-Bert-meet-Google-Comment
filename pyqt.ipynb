{
 "cells": [
  {
   "cell_type": "code",
   "execution_count": 2,
   "metadata": {},
   "outputs": [
    {
     "name": "stdout",
     "output_type": "stream",
     "text": [
      "Active code page: 65001\n",
      "\fCollecting PyQt5\n",
      "  Downloading PyQt5-5.15.6-cp36-abi3-win_amd64.whl (6.7 MB)\n",
      "Collecting PyQt5-Qt5>=5.15.2\n",
      "  Downloading PyQt5_Qt5-5.15.2-py3-none-win_amd64.whl (50.1 MB)\n",
      "Collecting PyQt5-sip<13,>=12.8\n",
      "  Downloading PyQt5_sip-12.10.1-cp38-cp38-win_amd64.whl (77 kB)\n",
      "Installing collected packages: PyQt5-sip, PyQt5-Qt5, PyQt5\n",
      "Successfully installed PyQt5-5.15.6 PyQt5-Qt5-5.15.2 PyQt5-sip-12.10.1\n",
      "^C\n"
     ]
    }
   ],
   "source": [
    "!conda install pyqt"
   ]
  },
  {
   "cell_type": "code",
   "execution_count": 1,
   "metadata": {},
   "outputs": [],
   "source": [
    "import sys\n",
    "from PyQt5.QtWidgets import *\n",
    "#from PyQt5.QtWidgets import QApplication, QWidget, QLabel\n",
    "from PyQt5.QtGui import QIcon\n",
    "from PyQt5.QtCore import pyqtSlot\n",
    "from PyQt5 import uic\n",
    "\n",
    "def func(ui):\n",
    "   info = ui.comment.toPlainText()\n",
    "   alert = QMessageBox()\n",
    "   alert.setText(info)\n",
    "   alert.exec()\n",
    "\n",
    "app = QApplication([])\n",
    "ui = uic.loadUi(\"test.ui\")\n",
    "ui.button.clicked.connect(lambda:func(ui))\n",
    "# def window():\n",
    "#    flag = 0\n",
    "#    app = QApplication([])\n",
    "#    ui = uic.loadUi(\"test.ui\")\n",
    "#    ui.show()\n",
    "#    ui.button.clicked.connect(lambda:func(ui,flag))\n",
    "#    ui.button.show()\n",
    "#    app.exec()\n",
    "\n",
    "\n",
    "\n",
    "ui.button.show()\n",
    "app.exec()\n",
    "\n",
    "\n"
   ]
  },
  {
   "cell_type": "code",
   "execution_count": 1,
   "metadata": {},
   "outputs": [
    {
     "data": {
      "text/plain": [
       "0"
      ]
     },
     "execution_count": 1,
     "metadata": {},
     "output_type": "execute_result"
    }
   ],
   "source": [
    "from PyQt5.QtWidgets import *\n",
    "\n",
    "app = QApplication([])\n",
    "button = QPushButton('Click')\n",
    "\n",
    "def on_button_clicked():\n",
    "    alert = QMessageBox()\n",
    "    alert.setText('You clicked the button!')\n",
    "    alert.exec()\n",
    "\n",
    "button.clicked.connect(on_button_clicked)\n",
    "button.show()\n",
    "app.exec()"
   ]
  },
  {
   "cell_type": "code",
   "execution_count": 1,
   "metadata": {},
   "outputs": [
    {
     "ename": "",
     "evalue": "",
     "output_type": "error",
     "traceback": [
      "\u001b[1;31mCanceled future for execute_request message before replies were done"
     ]
    },
    {
     "ename": "",
     "evalue": "",
     "output_type": "error",
     "traceback": [
      "\u001b[1;31mThe Kernel crashed while executing code in the the current cell or a previous cell. Please review the code in the cell(s) to identify a possible cause of the failure. Click <a href='https://aka.ms/vscodeJupyterKernelCrash'>here</a> for more info. View Jupyter <a href='command:jupyter.viewOutput'>log</a> for further details."
     ]
    }
   ],
   "source": [
    "from PySide2.QtWidgets import QApplication, QMessageBox\n",
    "from PySide2.QtUiTools import QUiLoader\n",
    "\n",
    "class Stats:\n",
    "\n",
    "    def __init__(self):\n",
    "        # 从文件中加载UI定义\n",
    "\n",
    "        # 从 UI 定义中动态 创建一个相应的窗口对象\n",
    "        # 注意：里面的控件对象也成为窗口对象的属性了\n",
    "        # 比如 self.ui.button , self.ui.textEdit\n",
    "        self.ui = QUiLoader().load('test.ui')\n",
    "\n",
    "        self.ui.button.clicked.connect(self.handleCalc)\n",
    "\n",
    "    def handleCalc(self):\n",
    "        info = self.ui.comment.toPlainText()\n",
    "\n",
    "        salary_above_20k = ''\n",
    "        salary_below_20k = ''\n",
    "        for line in info.splitlines():\n",
    "            if not line.strip():\n",
    "                continue\n",
    "            parts = line.split(' ')\n",
    "\n",
    "            parts = [p for p in parts if p]\n",
    "            name,salary,age = parts\n",
    "            if int(salary) >= 20000:\n",
    "                salary_above_20k += name + '\\n'\n",
    "            else:\n",
    "                salary_below_20k += name + '\\n'\n",
    "\n",
    "        QMessageBox.about(self.ui,\n",
    "                    '统计结果',\n",
    "                    f'''薪资20000 以上的有：\\n{salary_above_20k}\n",
    "                    \\n薪资20000 以下的有：\\n{salary_below_20k}'''\n",
    "                    )\n",
    "\n",
    "app = QApplication([])\n",
    "stats = Stats()\n",
    "stats.ui.show()\n",
    "app.exec_()"
   ]
  },
  {
   "cell_type": "code",
   "execution_count": 1,
   "metadata": {},
   "outputs": [],
   "source": [
    "import os\n",
    "import math\n",
    "import time\n",
    "import pandas as pd\n",
    "import numpy as np\n",
    "import matplotlib.pyplot as plt\n",
    "from tqdm.notebook import tqdm\n",
    "from opencc import OpenCC\n",
    "\n",
    "import torch\n",
    "import torch.nn as nn\n",
    "from torch.utils.data import TensorDataset, DataLoader\n",
    "#from keras.layers.normalization import layer_normalization\n",
    "from tensorflow.keras.layers import LayerNormalization\n",
    "from keras.preprocessing.sequence import pad_sequences\n",
    "from transformers import BertTokenizer, BertConfig, BertModel"
   ]
  },
  {
   "cell_type": "code",
   "execution_count": 2,
   "metadata": {},
   "outputs": [
    {
     "name": "stderr",
     "output_type": "stream",
     "text": [
      "Some weights of the model checkpoint at ./chinese_roberta_wwm_ext_pytorch/pytorch_model.bin were not used when initializing BertModel: ['cls.predictions.decoder.weight', 'cls.seq_relationship.weight', 'cls.predictions.transform.dense.weight', 'cls.predictions.bias', 'cls.predictions.transform.LayerNorm.weight', 'cls.seq_relationship.bias', 'cls.predictions.transform.dense.bias', 'cls.predictions.transform.LayerNorm.bias']\n",
      "- This IS expected if you are initializing BertModel from the checkpoint of a model trained on another task or with another architecture (e.g. initializing a BertForSequenceClassification model from a BertForPreTraining model).\n",
      "- This IS NOT expected if you are initializing BertModel from the checkpoint of a model that you expect to be exactly identical (initializing a BertForSequenceClassification model from a BertForSequenceClassification model).\n"
     ]
    },
    {
     "data": {
      "text/plain": [
       "<All keys matched successfully>"
      ]
     },
     "execution_count": 2,
     "metadata": {},
     "output_type": "execute_result"
    }
   ],
   "source": [
    "bert_path = './chinese_roberta_wwm_ext_pytorch'\n",
    "tokenizer = BertTokenizer(f'{bert_path}/vocab.txt')\n",
    "config = BertConfig.from_pretrained(f'{bert_path}/bert_config.json')\n",
    "embedding = BertModel.from_pretrained(f'{bert_path}/pytorch_model.bin', config=config)\n",
    "\n",
    "class bert_model(nn.Module):\n",
    "    def __init__(self, embedding):\n",
    "        super(bert_model, self).__init__()\n",
    "        self.embedding = embedding\n",
    "        self.fc1 = nn.Linear(768, 2)\n",
    "        self.fc2 = nn.Linear(768, 5)\n",
    "    def forward(self, x):\n",
    "        embedded = self.embedding(x)['pooler_output']\n",
    "        out1 = self.fc1(embedded)\n",
    "        out2 = self.fc2(embedded)\n",
    "        return out1, out2\n",
    "model = bert_model(embedding).cpu()\n",
    "\n",
    "model.load_state_dict(torch.load(f'{bert_path}/best_model1.pth'))"
   ]
  },
  {
   "cell_type": "code",
   "execution_count": 3,
   "metadata": {},
   "outputs": [
    {
     "name": "stdout",
     "output_type": "stream",
     "text": [
      "top1: attraction,    機率:0.460\n",
      "top2: shopping,    機率:0.301\n",
      "top3: restaurant,   機率:0.155\n",
      "top4: medical,       機率:0.048\n",
      "top5: bookstore,   機率:0.036\n",
      "\n",
      "top1: attraction,    機率:0.495\n",
      "top2: shopping,    機率:0.336\n",
      "top3: restaurant,   機率:0.111\n",
      "top4: medical,       機率:0.031\n",
      "top5: bookstore,   機率:0.028\n",
      "\n",
      "top1: attraction,    機率:0.436\n",
      "top2: shopping,    機率:0.335\n",
      "top3: restaurant,   機率:0.147\n",
      "top4: medical,       機率:0.053\n",
      "top5: bookstore,   機率:0.030\n",
      "\n",
      "top1: attraction,    機率:0.551\n",
      "top2: shopping,    機率:0.285\n",
      "top3: restaurant,   機率:0.112\n",
      "top4: medical,       機率:0.029\n",
      "top5: bookstore,   機率:0.024\n",
      "\n",
      "top1: restaurant,   機率:0.749\n",
      "top2: shopping,    機率:0.125\n",
      "top3: attraction,    機率:0.119\n",
      "top4: bookstore,   機率:0.006\n",
      "top5: medical,       機率:0.002\n",
      "\n",
      "top1: restaurant,   機率:0.803\n",
      "top2: shopping,    機率:0.116\n",
      "top3: attraction,    機率:0.074\n",
      "top4: bookstore,   機率:0.006\n",
      "top5: medical,       機率:0.001\n",
      "\n",
      "top1: restaurant,   機率:0.834\n",
      "top2: shopping,    機率:0.103\n",
      "top3: attraction,    機率:0.055\n",
      "top4: bookstore,   機率:0.006\n",
      "top5: medical,       機率:0.001\n",
      "\n",
      "top1: restaurant,   機率:0.834\n",
      "top2: shopping,    機率:0.103\n",
      "top3: attraction,    機率:0.055\n",
      "top4: bookstore,   機率:0.006\n",
      "top5: medical,       機率:0.001\n",
      "\n",
      "top1: restaurant,   機率:0.845\n",
      "top2: shopping,    機率:0.132\n",
      "top3: attraction,    機率:0.019\n",
      "top4: bookstore,   機率:0.003\n",
      "top5: medical,       機率:0.001\n",
      "\n",
      "top1: attraction,    機率:0.352\n",
      "top2: shopping,    機率:0.350\n",
      "top3: medical,       機率:0.178\n",
      "top4: restaurant,   機率:0.101\n",
      "top5: bookstore,   機率:0.020\n",
      "\n",
      "top1: attraction,    機率:0.352\n",
      "top2: shopping,    機率:0.350\n",
      "top3: medical,       機率:0.178\n",
      "top4: restaurant,   機率:0.101\n",
      "top5: bookstore,   機率:0.020\n",
      "\n"
     ]
    },
    {
     "data": {
      "text/plain": [
       "0"
      ]
     },
     "execution_count": 3,
     "metadata": {},
     "output_type": "execute_result"
    }
   ],
   "source": [
    "from PyQt5.QtWidgets import *\n",
    "\n",
    "class Stats():\n",
    "    def __init__(self):\n",
    "        self.window = QMainWindow()\n",
    "        self.window.resize(500, 400)\n",
    "        self.window.move(300, 300)\n",
    "        self.window.setWindowTitle('Goggle留言大解密')\n",
    "\n",
    "        self.textEdit = QPlainTextEdit(self.window)\n",
    "        self.textEdit.setPlaceholderText(\"請輸入一則留言內容\")\n",
    "        self.textEdit.move(10, 25)\n",
    "        self.textEdit.resize(300, 350)\n",
    "\n",
    "        self.button = QPushButton('分析', self.window)\n",
    "        self.button.move(380, 80)\n",
    "\n",
    "        self.button.clicked.connect(self.func)\n",
    "\n",
    "    def func(self):\n",
    "        m = nn.Softmax(dim=1)\n",
    "        cc = OpenCC('s2t')\n",
    "        type_names = ['attraction,   ', 'bookstore,  ', 'medical,      ', 'restaurant,  ', 'shopping,   ']\n",
    "        \n",
    "        \n",
    "        info = self.textEdit.toPlainText()\n",
    "        info = cc.convert(info)\n",
    "        info = tokenizer.encode(info)\n",
    "        info = pad_sequences([info], maxlen=100, padding='post',dtype='int')\n",
    "        info = torch.tensor(info)\n",
    "        \n",
    "        pred1,pred2 = model(info)\n",
    "        pred1 = m(pred1).detach().numpy().squeeze()\n",
    "        pred2 = list(m(pred2).detach().numpy().squeeze())\n",
    "        tmp_dict = dict(zip(type_names, pred2))\n",
    "        tmp_dict= dict(sorted(tmp_dict.items(), key=lambda item: item[1],reverse=True))\n",
    "        place_res = \"\"\n",
    "        for idx,it in enumerate(tmp_dict.items()):\n",
    "            place_res += \"top{}: {} 機率:{:.3f}\\n\".format(idx+1,it[0],it[1])\n",
    "        \n",
    "        str0=\"語意分析結果:\\n\"\n",
    "        str1=\"              正面   負面\\n\"\n",
    "        str2=\"機率: {:8.3f} {:.3f}\\n\\n\".format(pred1[1],pred1[0])\n",
    "        str3=\"地點分類結果:\\n\"\n",
    "        \n",
    "        \n",
    "        st = str0 + str1 + str2 + str3 + place_res\n",
    "        print(place_res)\n",
    "        QMessageBox.about(self.window,\n",
    "                          \"結果:\",st)\n",
    "    \n",
    "\n",
    "app = QApplication([])\n",
    "stats = Stats()\n",
    "stats.window.show()\n",
    "app.exec_()"
   ]
  },
  {
   "cell_type": "code",
   "execution_count": 1,
   "metadata": {},
   "outputs": [
    {
     "ename": "SystemExit",
     "evalue": "0",
     "output_type": "error",
     "traceback": [
      "An exception has occurred, use %tb to see the full traceback.\n",
      "\u001b[1;31mSystemExit\u001b[0m\u001b[1;31m:\u001b[0m 0\n"
     ]
    },
    {
     "name": "stderr",
     "output_type": "stream",
     "text": [
      "c:\\Users\\USER\\anaconda3\\envs\\back\\lib\\site-packages\\IPython\\core\\interactiveshell.py:3369: UserWarning: To exit: use 'exit', 'quit', or Ctrl-D.\n",
      "  warn(\"To exit: use 'exit', 'quit', or Ctrl-D.\", stacklevel=1)\n"
     ]
    }
   ],
   "source": [
    "import sys\n",
    "from PyQt5.QtWidgets import (QApplication, QWidget)\n",
    "\n",
    "class MyWidget(QWidget):\n",
    "    def __init__(self):\n",
    "        super().__init__()\n",
    "        self.initUI()\n",
    "\n",
    "    def initUI(self):\n",
    "        self.setWindowTitle('hello world')\n",
    "        self.setGeometry(50, 50, 200, 150)\n",
    "\n",
    "if __name__ == '__main__':\n",
    "    app = QApplication(sys.argv)\n",
    "    w = MyWidget()\n",
    "    w.show()\n",
    "    sys.exit(app.exec_())"
   ]
  }
 ],
 "metadata": {
  "interpreter": {
   "hash": "6e9c8f4b8f0914fec3b5e961d0089ea5e838edc1ba42790093f5b7a58674afc6"
  },
  "kernelspec": {
   "display_name": "Python 3.8.12 ('back')",
   "language": "python",
   "name": "python3"
  },
  "language_info": {
   "codemirror_mode": {
    "name": "ipython",
    "version": 3
   },
   "file_extension": ".py",
   "mimetype": "text/x-python",
   "name": "python",
   "nbconvert_exporter": "python",
   "pygments_lexer": "ipython3",
   "version": "3.8.12"
  },
  "orig_nbformat": 4
 },
 "nbformat": 4,
 "nbformat_minor": 2
}
