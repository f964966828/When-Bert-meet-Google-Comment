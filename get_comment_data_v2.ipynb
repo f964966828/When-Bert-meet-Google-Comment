{
 "cells": [
  {
   "cell_type": "code",
   "execution_count": 1,
   "id": "7251ea98",
   "metadata": {},
   "outputs": [],
   "source": [
    "import os\n",
    "import pandas as pd\n",
    "from tqdm.notebook import tqdm "
   ]
  },
  {
   "cell_type": "code",
   "execution_count": 2,
   "id": "7dee1a46",
   "metadata": {
    "scrolled": false
   },
   "outputs": [
    {
     "name": "stdout",
     "output_type": "stream",
     "text": [
      "attraction\n"
     ]
    },
    {
     "data": {
      "application/vnd.jupyter.widget-view+json": {
       "model_id": "d744984916bf4d1bb042787716fdac81",
       "version_major": 2,
       "version_minor": 0
      },
      "text/plain": [
       "  0%|          | 0/245 [00:00<?, ?it/s]"
      ]
     },
     "metadata": {},
     "output_type": "display_data"
    },
    {
     "name": "stdout",
     "output_type": "stream",
     "text": [
      "bookstore\n"
     ]
    },
    {
     "data": {
      "application/vnd.jupyter.widget-view+json": {
       "model_id": "13f3a3a7894544cdb256ee5445a5a22d",
       "version_major": 2,
       "version_minor": 0
      },
      "text/plain": [
       "  0%|          | 0/198 [00:00<?, ?it/s]"
      ]
     },
     "metadata": {},
     "output_type": "display_data"
    },
    {
     "name": "stdout",
     "output_type": "stream",
     "text": [
      "medical\n"
     ]
    },
    {
     "data": {
      "application/vnd.jupyter.widget-view+json": {
       "model_id": "23a67a1d637449ad9a916ea9cf95cd13",
       "version_major": 2,
       "version_minor": 0
      },
      "text/plain": [
       "  0%|          | 0/233 [00:00<?, ?it/s]"
      ]
     },
     "metadata": {},
     "output_type": "display_data"
    },
    {
     "name": "stdout",
     "output_type": "stream",
     "text": [
      "restaurant\n"
     ]
    },
    {
     "data": {
      "application/vnd.jupyter.widget-view+json": {
       "model_id": "c3bb13f567f24ea58f87d4e5ac2e84cf",
       "version_major": 2,
       "version_minor": 0
      },
      "text/plain": [
       "  0%|          | 0/269 [00:00<?, ?it/s]"
      ]
     },
     "metadata": {},
     "output_type": "display_data"
    },
    {
     "name": "stdout",
     "output_type": "stream",
     "text": [
      "shopping\n"
     ]
    },
    {
     "data": {
      "application/vnd.jupyter.widget-view+json": {
       "model_id": "58324a082471403e9efdd6fa0d23647a",
       "version_major": 2,
       "version_minor": 0
      },
      "text/plain": [
       "  0%|          | 0/286 [00:00<?, ?it/s]"
      ]
     },
     "metadata": {},
     "output_type": "display_data"
    }
   ],
   "source": [
    "root = './comment_data'\n",
    "type_names = os.listdir(root)\n",
    "df_dict = dict()\n",
    "\n",
    "for type_name in type_names:\n",
    "    print(type_name)\n",
    "    df_dict[type_name] = list()\n",
    "    progress = tqdm(total = len(os.listdir(f'{root}/{type_name}')))\n",
    "    for file in os.listdir(f'{root}/{type_name}'):\n",
    "        df = pd.read_excel(f'{root}/{type_name}/{file}')\n",
    "        df_dict[type_name].append(df)\n",
    "        progress.update(1)\n",
    "    df_dict[type_name] = pd.concat(df_dict[type_name])"
   ]
  },
  {
   "cell_type": "code",
   "execution_count": 13,
   "id": "6aea8126",
   "metadata": {
    "scrolled": false
   },
   "outputs": [
    {
     "name": "stdout",
     "output_type": "stream",
     "text": [
      "attraction\n",
      "92664 \n",
      "\n",
      "bookstore\n",
      "12027 \n",
      "\n",
      "medical\n",
      "33404 \n",
      "\n"
     ]
    },
    {
     "name": "stderr",
     "output_type": "stream",
     "text": [
      "<ipython-input-13-0b73887fa5b9>:10: SettingWithCopyWarning: \n",
      "A value is trying to be set on a copy of a slice from a DataFrame.\n",
      "Try using .loc[row_indexer,col_indexer] = value instead\n",
      "\n",
      "See the caveats in the documentation: https://pandas.pydata.org/pandas-docs/stable/user_guide/indexing.html#returning-a-view-versus-a-copy\n",
      "  df['Length'] = length\n"
     ]
    },
    {
     "name": "stdout",
     "output_type": "stream",
     "text": [
      "restaurant\n",
      "72120 \n",
      "\n",
      "shopping\n",
      "107090 \n",
      "\n",
      "total count: 317305\n"
     ]
    }
   ],
   "source": [
    "os.makedirs('comment_data_v2', exist_ok=True)\n",
    "count = 0\n",
    "for type_name in type_names:\n",
    "    df = df_dict[type_name]\n",
    "    \n",
    "    df = df[df['Star'] != 'None']\n",
    "    df['Star'].astype('int32')\n",
    "    \n",
    "    length = [len(str(data)) for data in df['Comment']]\n",
    "    df['Length'] = length\n",
    "    df = df[df['Length'] > 20]\n",
    "    del df['Length']\n",
    "    \n",
    "    df.to_excel(f'comment_data_v2/{type_name}.xlsx', encoding='utf-16', index=False)\n",
    "    \n",
    "    print(type_name)\n",
    "    print(len(df), '\\n')\n",
    "    count += len(df)\n",
    "    \n",
    "print(f'total count: {count}')"
   ]
  },
  {
   "cell_type": "code",
   "execution_count": 5,
   "id": "04a9b848",
   "metadata": {},
   "outputs": [
    {
     "data": {
      "text/html": [
       "<div>\n",
       "<style scoped>\n",
       "    .dataframe tbody tr th:only-of-type {\n",
       "        vertical-align: middle;\n",
       "    }\n",
       "\n",
       "    .dataframe tbody tr th {\n",
       "        vertical-align: top;\n",
       "    }\n",
       "\n",
       "    .dataframe thead th {\n",
       "        text-align: right;\n",
       "    }\n",
       "</style>\n",
       "<table border=\"1\" class=\"dataframe\">\n",
       "  <thead>\n",
       "    <tr style=\"text-align: right;\">\n",
       "      <th></th>\n",
       "      <th>Author</th>\n",
       "      <th>Star</th>\n",
       "      <th>Comment</th>\n",
       "      <th>Length</th>\n",
       "    </tr>\n",
       "  </thead>\n",
       "  <tbody>\n",
       "    <tr>\n",
       "      <th>0</th>\n",
       "      <td>Jia-Qi Guo</td>\n",
       "      <td>5</td>\n",
       "      <td>疫情期間用圍籬圍起來，不知道是什麼意思（有什麼好整修的），還派了登山小電車在巡邏廣播，反正我是不懂</td>\n",
       "      <td>49</td>\n",
       "    </tr>\n",
       "    <tr>\n",
       "      <th>1</th>\n",
       "      <td>Hank Lin</td>\n",
       "      <td>4</td>\n",
       "      <td>十八尖山的三角點位於國父百年誕辰紀念亭（國父紀念亭）的紅色電塔旁的碉堡上方。\\n有山友綁繩索...</td>\n",
       "      <td>67</td>\n",
       "    </tr>\n",
       "    <tr>\n",
       "      <th>2</th>\n",
       "      <td>Hunter Tsui</td>\n",
       "      <td>5</td>\n",
       "      <td>,來到這裡可以運動，也可以帶家人來此踏青，每年三月有是杜絹花盛開的時節，每到早晨這裡充滿熱情。</td>\n",
       "      <td>47</td>\n",
       "    </tr>\n",
       "    <tr>\n",
       "      <th>3</th>\n",
       "      <td>賴秀真</td>\n",
       "      <td>5</td>\n",
       "      <td>規劃不錯，有廁所還有飲水機\\n晚上爬也是可以，延路都有路燈</td>\n",
       "      <td>28</td>\n",
       "    </tr>\n",
       "    <tr>\n",
       "      <th>4</th>\n",
       "      <td>曾圳仁</td>\n",
       "      <td>3</td>\n",
       "      <td>新竹人的福利帶個水杯或保温杯就能在十八尖山健行步道散散步或跳社交舞五行健康操.元極舞，排舞，...</td>\n",
       "      <td>101</td>\n",
       "    </tr>\n",
       "    <tr>\n",
       "      <th>...</th>\n",
       "      <td>...</td>\n",
       "      <td>...</td>\n",
       "      <td>...</td>\n",
       "      <td>...</td>\n",
       "    </tr>\n",
       "    <tr>\n",
       "      <th>660</th>\n",
       "      <td>Lauren Luo</td>\n",
       "      <td>5</td>\n",
       "      <td>美美的</td>\n",
       "      <td>4</td>\n",
       "    </tr>\n",
       "    <tr>\n",
       "      <th>661</th>\n",
       "      <td>とらべらーきむ</td>\n",
       "      <td>3</td>\n",
       "      <td>20181130\\n通常</td>\n",
       "      <td>12</td>\n",
       "    </tr>\n",
       "    <tr>\n",
       "      <th>662</th>\n",
       "      <td>vivi lin</td>\n",
       "      <td>5</td>\n",
       "      <td>風景秀麗</td>\n",
       "      <td>5</td>\n",
       "    </tr>\n",
       "    <tr>\n",
       "      <th>663</th>\n",
       "      <td>蘇萊恩</td>\n",
       "      <td>5</td>\n",
       "      <td>欸嘿 🤣</td>\n",
       "      <td>5</td>\n",
       "    </tr>\n",
       "    <tr>\n",
       "      <th>664</th>\n",
       "      <td>Eggsy Chang</td>\n",
       "      <td>5</td>\n",
       "      <td>風景秀麗</td>\n",
       "      <td>5</td>\n",
       "    </tr>\n",
       "  </tbody>\n",
       "</table>\n",
       "<p>265267 rows × 4 columns</p>\n",
       "</div>"
      ],
      "text/plain": [
       "          Author Star                                            Comment  \\\n",
       "0     Jia-Qi Guo    5  疫情期間用圍籬圍起來，不知道是什麼意思（有什麼好整修的），還派了登山小電車在巡邏廣播，反正我是不懂   \n",
       "1       Hank Lin    4  十八尖山的三角點位於國父百年誕辰紀念亭（國父紀念亭）的紅色電塔旁的碉堡上方。\\n有山友綁繩索...   \n",
       "2    Hunter Tsui    5    ,來到這裡可以運動，也可以帶家人來此踏青，每年三月有是杜絹花盛開的時節，每到早晨這裡充滿熱情。   \n",
       "3            賴秀真    5                      規劃不錯，有廁所還有飲水機\\n晚上爬也是可以，延路都有路燈   \n",
       "4            曾圳仁    3  新竹人的福利帶個水杯或保温杯就能在十八尖山健行步道散散步或跳社交舞五行健康操.元極舞，排舞，...   \n",
       "..           ...  ...                                                ...   \n",
       "660   Lauren Luo    5                                                美美的   \n",
       "661      とらべらーきむ    3                                       20181130\\n通常   \n",
       "662     vivi lin    5                                               風景秀麗   \n",
       "663          蘇萊恩    5                                               欸嘿 🤣   \n",
       "664  Eggsy Chang    5                                               風景秀麗   \n",
       "\n",
       "     Length  \n",
       "0        49  \n",
       "1        67  \n",
       "2        47  \n",
       "3        28  \n",
       "4       101  \n",
       "..      ...  \n",
       "660       4  \n",
       "661      12  \n",
       "662       5  \n",
       "663       5  \n",
       "664       5  \n",
       "\n",
       "[265267 rows x 4 columns]"
      ]
     },
     "metadata": {},
     "output_type": "display_data"
    }
   ],
   "source": [
    "display(df_dict['attraction'])"
   ]
  },
  {
   "cell_type": "code",
   "execution_count": null,
   "id": "d372dd60",
   "metadata": {},
   "outputs": [],
   "source": []
  }
 ],
 "metadata": {
  "kernelspec": {
   "display_name": "Python 3",
   "language": "python",
   "name": "python3"
  },
  "language_info": {
   "codemirror_mode": {
    "name": "ipython",
    "version": 3
   },
   "file_extension": ".py",
   "mimetype": "text/x-python",
   "name": "python",
   "nbconvert_exporter": "python",
   "pygments_lexer": "ipython3",
   "version": "3.8.8"
  }
 },
 "nbformat": 4,
 "nbformat_minor": 5
}
